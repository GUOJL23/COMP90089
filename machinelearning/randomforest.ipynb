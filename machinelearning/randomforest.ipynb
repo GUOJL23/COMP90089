{
 "cells": [
  {
   "cell_type": "code",
   "execution_count": 1,
   "metadata": {},
   "outputs": [
    {
     "name": "stdout",
     "output_type": "stream",
     "text": [
      "Class distribution in target variable 'aki_occurred':\n",
      "aki_occurred\n",
      "0.0    72930\n",
      "1.0    10237\n",
      "Name: count, dtype: int64\n",
      "Name: count, dtype: int64\n",
      "\n",
      "Class distribution after applying SMOTE:\n",
      "aki_occurred\n",
      "1.0    72930\n",
      "0.0    72930\n",
      "Name: count, dtype: int64\n",
      "Name: count, dtype: int64\n",
      "\n",
      "Random Forest Accuracy after handling class imbalance: 0.8471\n",
      "Random Forest Classification Report after handling class imbalance:\n",
      "              precision    recall  f1-score   support\n",
      "\n",
      "         0.0       0.90      0.92      0.91     31292\n",
      "         1.0       0.35      0.29      0.32      4351\n",
      "\n",
      "    accuracy                           0.85     35643\n",
      "   macro avg       0.63      0.61      0.62     35643\n",
      "weighted avg       0.84      0.85      0.84     35643\n",
      "\n"
     ]
    }
   ],
   "source": [
    "# Import necessary libraries\n",
    "import pandas as pd\n",
    "from sklearn.model_selection import train_test_split\n",
    "from sklearn.ensemble import RandomForestClassifier\n",
    "from sklearn.metrics import classification_report, accuracy_score\n",
    "from imblearn.over_sampling import SMOTE\n",
    "\n",
    "# # Load your dataset (adjust the path as needed)\n",
    "data = pd.read_csv(\"final_ml_data.csv\")\n",
    "data[['N170', 'N171', 'N172', 'N178', 'N179']] = data[['N170', 'N171', 'N172', 'N178', 'N179']].fillna(0)\n",
    "data['aki_occurred'] = data[['N170', 'N171', 'N172', 'N178', 'N179']].max(axis=1)\n",
    "\n",
    "feature_cols = [\n",
    "    'drug_encoded', 'creatinine_level', 'previous_creatinine_level',\n",
    "    'creatinine_change', 'gender_encoded', 'anchor_age',\n",
    "    'race_encoded', 'avg_bmi'\n",
    "]\n",
    "data[feature_cols] = data[feature_cols].fillna(0)\n",
    "data = data.drop_duplicates(subset=['subject_id', 'hadm_id'])\n",
    "\n",
    "# Split data\n",
    "X = data[feature_cols]\n",
    "y = data['aki_occurred']\n",
    "X_train, X_test, y_train, y_test = train_test_split(X, y, test_size=0.3, random_state=42)\n",
    "\n",
    "# Check initial class distribution\n",
    "print(\"Class distribution in target variable 'aki_occurred':\")\n",
    "print(y_train.value_counts())\n",
    "print(\"Name: count, dtype: int64\")\n",
    "\n",
    "# Apply SMOTE\n",
    "smote = SMOTE(random_state=42)\n",
    "X_train_resampled, y_train_resampled = smote.fit_resample(X_train, y_train)\n",
    "\n",
    "# Check distribution after SMOTE\n",
    "print(\"\\nClass distribution after applying SMOTE:\")\n",
    "print(pd.Series(y_train_resampled).value_counts())\n",
    "print(\"Name: count, dtype: int64\")\n",
    "\n",
    "# Random Forest Model\n",
    "rf_classifier = RandomForestClassifier(n_estimators=100, random_state=42)\n",
    "rf_classifier.fit(X_train_resampled, y_train_resampled)\n",
    "\n",
    "# Random Forest predictions and evaluation\n",
    "y_pred_rf = rf_classifier.predict(X_test)\n",
    "accuracy_rf = accuracy_score(y_test, y_pred_rf)\n",
    "print(f\"\\nRandom Forest Accuracy after handling class imbalance: {accuracy_rf:.4f}\")\n",
    "print(\"Random Forest Classification Report after handling class imbalance:\")\n",
    "print(classification_report(y_test, y_pred_rf))"
   ]
  },
  {
   "cell_type": "code",
   "execution_count": null,
   "metadata": {},
   "outputs": [],
   "source": []
  }
 ],
 "metadata": {
  "kernelspec": {
   "display_name": "base",
   "language": "python",
   "name": "python3"
  },
  "language_info": {
   "codemirror_mode": {
    "name": "ipython",
    "version": 3
   },
   "file_extension": ".py",
   "mimetype": "text/x-python",
   "name": "python",
   "nbconvert_exporter": "python",
   "pygments_lexer": "ipython3",
   "version": "3.9.12"
  }
 },
 "nbformat": 4,
 "nbformat_minor": 2
}
